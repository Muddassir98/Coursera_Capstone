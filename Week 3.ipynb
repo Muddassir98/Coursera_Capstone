{
 "cells": [
  {
   "cell_type": "code",
   "execution_count": 1,
   "metadata": {},
   "outputs": [],
   "source": [
    "import pandas as pd"
   ]
  },
  {
   "cell_type": "markdown",
   "metadata": {},
   "source": [
    "## Part 1"
   ]
  },
  {
   "cell_type": "code",
   "execution_count": 2,
   "metadata": {},
   "outputs": [
    {
     "data": {
      "text/html": [
       "<div>\n",
       "<style scoped>\n",
       "    .dataframe tbody tr th:only-of-type {\n",
       "        vertical-align: middle;\n",
       "    }\n",
       "\n",
       "    .dataframe tbody tr th {\n",
       "        vertical-align: top;\n",
       "    }\n",
       "\n",
       "    .dataframe thead th {\n",
       "        text-align: right;\n",
       "    }\n",
       "</style>\n",
       "<table border=\"1\" class=\"dataframe\">\n",
       "  <thead>\n",
       "    <tr style=\"text-align: right;\">\n",
       "      <th></th>\n",
       "      <th>Postal code</th>\n",
       "      <th>Borough</th>\n",
       "      <th>Neighborhood</th>\n",
       "    </tr>\n",
       "  </thead>\n",
       "  <tbody>\n",
       "    <tr>\n",
       "      <th>0</th>\n",
       "      <td>M1A</td>\n",
       "      <td>Not assigned</td>\n",
       "      <td>NaN</td>\n",
       "    </tr>\n",
       "    <tr>\n",
       "      <th>1</th>\n",
       "      <td>M2A</td>\n",
       "      <td>Not assigned</td>\n",
       "      <td>NaN</td>\n",
       "    </tr>\n",
       "    <tr>\n",
       "      <th>2</th>\n",
       "      <td>M3A</td>\n",
       "      <td>North York</td>\n",
       "      <td>Parkwoods</td>\n",
       "    </tr>\n",
       "    <tr>\n",
       "      <th>3</th>\n",
       "      <td>M4A</td>\n",
       "      <td>North York</td>\n",
       "      <td>Victoria Village</td>\n",
       "    </tr>\n",
       "    <tr>\n",
       "      <th>4</th>\n",
       "      <td>M5A</td>\n",
       "      <td>Downtown Toronto</td>\n",
       "      <td>Regent Park / Harbourfront</td>\n",
       "    </tr>\n",
       "  </tbody>\n",
       "</table>\n",
       "</div>"
      ],
      "text/plain": [
       "  Postal code           Borough                Neighborhood\n",
       "0         M1A      Not assigned                         NaN\n",
       "1         M2A      Not assigned                         NaN\n",
       "2         M3A        North York                   Parkwoods\n",
       "3         M4A        North York            Victoria Village\n",
       "4         M5A  Downtown Toronto  Regent Park / Harbourfront"
      ]
     },
     "execution_count": 2,
     "metadata": {},
     "output_type": "execute_result"
    }
   ],
   "source": [
    "df=pd.read_csv('postal_code.csv')\n",
    "df.head()"
   ]
  },
  {
   "cell_type": "code",
   "execution_count": 3,
   "metadata": {},
   "outputs": [
    {
     "data": {
      "text/html": [
       "<div>\n",
       "<style scoped>\n",
       "    .dataframe tbody tr th:only-of-type {\n",
       "        vertical-align: middle;\n",
       "    }\n",
       "\n",
       "    .dataframe tbody tr th {\n",
       "        vertical-align: top;\n",
       "    }\n",
       "\n",
       "    .dataframe thead th {\n",
       "        text-align: right;\n",
       "    }\n",
       "</style>\n",
       "<table border=\"1\" class=\"dataframe\">\n",
       "  <thead>\n",
       "    <tr style=\"text-align: right;\">\n",
       "      <th></th>\n",
       "      <th>Postal code</th>\n",
       "      <th>Borough</th>\n",
       "      <th>Neighborhood</th>\n",
       "    </tr>\n",
       "  </thead>\n",
       "  <tbody>\n",
       "    <tr>\n",
       "      <th>2</th>\n",
       "      <td>M3A</td>\n",
       "      <td>North York</td>\n",
       "      <td>Parkwoods</td>\n",
       "    </tr>\n",
       "    <tr>\n",
       "      <th>3</th>\n",
       "      <td>M4A</td>\n",
       "      <td>North York</td>\n",
       "      <td>Victoria Village</td>\n",
       "    </tr>\n",
       "    <tr>\n",
       "      <th>4</th>\n",
       "      <td>M5A</td>\n",
       "      <td>Downtown Toronto</td>\n",
       "      <td>Regent Park / Harbourfront</td>\n",
       "    </tr>\n",
       "    <tr>\n",
       "      <th>5</th>\n",
       "      <td>M6A</td>\n",
       "      <td>North York</td>\n",
       "      <td>Lawrence Manor / Lawrence Heights</td>\n",
       "    </tr>\n",
       "    <tr>\n",
       "      <th>6</th>\n",
       "      <td>M7A</td>\n",
       "      <td>Downtown Toronto</td>\n",
       "      <td>Queen's Park / Ontario Provincial Government</td>\n",
       "    </tr>\n",
       "  </tbody>\n",
       "</table>\n",
       "</div>"
      ],
      "text/plain": [
       "  Postal code           Borough                                  Neighborhood\n",
       "2         M3A        North York                                     Parkwoods\n",
       "3         M4A        North York                              Victoria Village\n",
       "4         M5A  Downtown Toronto                    Regent Park / Harbourfront\n",
       "5         M6A        North York             Lawrence Manor / Lawrence Heights\n",
       "6         M7A  Downtown Toronto  Queen's Park / Ontario Provincial Government"
      ]
     },
     "execution_count": 3,
     "metadata": {},
     "output_type": "execute_result"
    }
   ],
   "source": [
    "df = df[df.Borough != 'Not assigned']\n",
    "df.head()"
   ]
  },
  {
   "cell_type": "code",
   "execution_count": 4,
   "metadata": {},
   "outputs": [
    {
     "data": {
      "text/plain": [
       "103"
      ]
     },
     "execution_count": 4,
     "metadata": {},
     "output_type": "execute_result"
    }
   ],
   "source": [
    "df['Postal code'].count()"
   ]
  },
  {
   "cell_type": "code",
   "execution_count": 5,
   "metadata": {},
   "outputs": [
    {
     "data": {
      "text/plain": [
       "103"
      ]
     },
     "execution_count": 5,
     "metadata": {},
     "output_type": "execute_result"
    }
   ],
   "source": [
    "df['Postal code'].nunique()"
   ]
  },
  {
   "cell_type": "markdown",
   "metadata": {},
   "source": [
    "We can see that all the Postal codes are unique, so no need to combine any postal code. We can just replace the '/' with ','"
   ]
  },
  {
   "cell_type": "code",
   "execution_count": 6,
   "metadata": {},
   "outputs": [
    {
     "data": {
      "text/html": [
       "<div>\n",
       "<style scoped>\n",
       "    .dataframe tbody tr th:only-of-type {\n",
       "        vertical-align: middle;\n",
       "    }\n",
       "\n",
       "    .dataframe tbody tr th {\n",
       "        vertical-align: top;\n",
       "    }\n",
       "\n",
       "    .dataframe thead th {\n",
       "        text-align: right;\n",
       "    }\n",
       "</style>\n",
       "<table border=\"1\" class=\"dataframe\">\n",
       "  <thead>\n",
       "    <tr style=\"text-align: right;\">\n",
       "      <th></th>\n",
       "      <th>Postal code</th>\n",
       "      <th>Borough</th>\n",
       "      <th>Neighborhood</th>\n",
       "    </tr>\n",
       "  </thead>\n",
       "  <tbody>\n",
       "    <tr>\n",
       "      <th>2</th>\n",
       "      <td>M3A</td>\n",
       "      <td>North York</td>\n",
       "      <td>Parkwoods</td>\n",
       "    </tr>\n",
       "    <tr>\n",
       "      <th>3</th>\n",
       "      <td>M4A</td>\n",
       "      <td>North York</td>\n",
       "      <td>Victoria Village</td>\n",
       "    </tr>\n",
       "    <tr>\n",
       "      <th>4</th>\n",
       "      <td>M5A</td>\n",
       "      <td>Downtown Toronto</td>\n",
       "      <td>Regent Park , Harbourfront</td>\n",
       "    </tr>\n",
       "    <tr>\n",
       "      <th>5</th>\n",
       "      <td>M6A</td>\n",
       "      <td>North York</td>\n",
       "      <td>Lawrence Manor , Lawrence Heights</td>\n",
       "    </tr>\n",
       "    <tr>\n",
       "      <th>6</th>\n",
       "      <td>M7A</td>\n",
       "      <td>Downtown Toronto</td>\n",
       "      <td>Queen's Park , Ontario Provincial Government</td>\n",
       "    </tr>\n",
       "  </tbody>\n",
       "</table>\n",
       "</div>"
      ],
      "text/plain": [
       "  Postal code           Borough                                  Neighborhood\n",
       "2         M3A        North York                                     Parkwoods\n",
       "3         M4A        North York                              Victoria Village\n",
       "4         M5A  Downtown Toronto                    Regent Park , Harbourfront\n",
       "5         M6A        North York             Lawrence Manor , Lawrence Heights\n",
       "6         M7A  Downtown Toronto  Queen's Park , Ontario Provincial Government"
      ]
     },
     "execution_count": 6,
     "metadata": {},
     "output_type": "execute_result"
    }
   ],
   "source": [
    "df['Neighborhood'] = df['Neighborhood'].str.replace('/',',')\n",
    "df.head()"
   ]
  },
  {
   "cell_type": "code",
   "execution_count": 7,
   "metadata": {},
   "outputs": [
    {
     "name": "stdout",
     "output_type": "stream",
     "text": [
      "    Postal code Borough                            Neighborhood\n",
      "140         NaN     NaN                                     NaN\n",
      "141         NaN     NaN   Quay , South Niagara , Island airport\n",
      "142         NaN     NaN                                     NaN\n"
     ]
    }
   ],
   "source": [
    "is_NaN = df.isnull()\n",
    "row_has_NaN = is_NaN.any(axis=1)\n",
    "rows_with_NaN = df[row_has_NaN]\n",
    "print(rows_with_NaN)"
   ]
  },
  {
   "cell_type": "markdown",
   "metadata": {},
   "source": [
    "Therefore there is no NaN value in the dataframe"
   ]
  },
  {
   "cell_type": "code",
   "execution_count": 8,
   "metadata": {},
   "outputs": [
    {
     "data": {
      "text/html": [
       "<div>\n",
       "<style scoped>\n",
       "    .dataframe tbody tr th:only-of-type {\n",
       "        vertical-align: middle;\n",
       "    }\n",
       "\n",
       "    .dataframe tbody tr th {\n",
       "        vertical-align: top;\n",
       "    }\n",
       "\n",
       "    .dataframe thead th {\n",
       "        text-align: right;\n",
       "    }\n",
       "</style>\n",
       "<table border=\"1\" class=\"dataframe\">\n",
       "  <thead>\n",
       "    <tr style=\"text-align: right;\">\n",
       "      <th></th>\n",
       "      <th>Postal code</th>\n",
       "      <th>Borough</th>\n",
       "      <th>Neighborhood</th>\n",
       "    </tr>\n",
       "  </thead>\n",
       "  <tbody>\n",
       "    <tr>\n",
       "      <th>2</th>\n",
       "      <td>M3A</td>\n",
       "      <td>North York</td>\n",
       "      <td>Parkwoods</td>\n",
       "    </tr>\n",
       "    <tr>\n",
       "      <th>3</th>\n",
       "      <td>M4A</td>\n",
       "      <td>North York</td>\n",
       "      <td>Victoria Village</td>\n",
       "    </tr>\n",
       "    <tr>\n",
       "      <th>4</th>\n",
       "      <td>M5A</td>\n",
       "      <td>Downtown Toronto</td>\n",
       "      <td>Regent Park , Harbourfront</td>\n",
       "    </tr>\n",
       "    <tr>\n",
       "      <th>5</th>\n",
       "      <td>M6A</td>\n",
       "      <td>North York</td>\n",
       "      <td>Lawrence Manor , Lawrence Heights</td>\n",
       "    </tr>\n",
       "    <tr>\n",
       "      <th>6</th>\n",
       "      <td>M7A</td>\n",
       "      <td>Downtown Toronto</td>\n",
       "      <td>Queen's Park , Ontario Provincial Government</td>\n",
       "    </tr>\n",
       "  </tbody>\n",
       "</table>\n",
       "</div>"
      ],
      "text/plain": [
       "  Postal code           Borough                                  Neighborhood\n",
       "2         M3A        North York                                     Parkwoods\n",
       "3         M4A        North York                              Victoria Village\n",
       "4         M5A  Downtown Toronto                    Regent Park , Harbourfront\n",
       "5         M6A        North York             Lawrence Manor , Lawrence Heights\n",
       "6         M7A  Downtown Toronto  Queen's Park , Ontario Provincial Government"
      ]
     },
     "execution_count": 8,
     "metadata": {},
     "output_type": "execute_result"
    }
   ],
   "source": [
    "df.head()"
   ]
  },
  {
   "cell_type": "markdown",
   "metadata": {},
   "source": [
    "Therefore we have successfully made the Dataframe"
   ]
  },
  {
   "cell_type": "markdown",
   "metadata": {},
   "source": [
    "## Part 2"
   ]
  },
  {
   "cell_type": "code",
   "execution_count": 11,
   "metadata": {},
   "outputs": [
    {
     "data": {
      "text/html": [
       "<div>\n",
       "<style scoped>\n",
       "    .dataframe tbody tr th:only-of-type {\n",
       "        vertical-align: middle;\n",
       "    }\n",
       "\n",
       "    .dataframe tbody tr th {\n",
       "        vertical-align: top;\n",
       "    }\n",
       "\n",
       "    .dataframe thead th {\n",
       "        text-align: right;\n",
       "    }\n",
       "</style>\n",
       "<table border=\"1\" class=\"dataframe\">\n",
       "  <thead>\n",
       "    <tr style=\"text-align: right;\">\n",
       "      <th></th>\n",
       "      <th>Postal Code</th>\n",
       "      <th>Latitude</th>\n",
       "      <th>Longitude</th>\n",
       "    </tr>\n",
       "  </thead>\n",
       "  <tbody>\n",
       "    <tr>\n",
       "      <th>0</th>\n",
       "      <td>M1B</td>\n",
       "      <td>43.806686</td>\n",
       "      <td>-79.194353</td>\n",
       "    </tr>\n",
       "    <tr>\n",
       "      <th>1</th>\n",
       "      <td>M1C</td>\n",
       "      <td>43.784535</td>\n",
       "      <td>-79.160497</td>\n",
       "    </tr>\n",
       "    <tr>\n",
       "      <th>2</th>\n",
       "      <td>M1E</td>\n",
       "      <td>43.763573</td>\n",
       "      <td>-79.188711</td>\n",
       "    </tr>\n",
       "    <tr>\n",
       "      <th>3</th>\n",
       "      <td>M1G</td>\n",
       "      <td>43.770992</td>\n",
       "      <td>-79.216917</td>\n",
       "    </tr>\n",
       "    <tr>\n",
       "      <th>4</th>\n",
       "      <td>M1H</td>\n",
       "      <td>43.773136</td>\n",
       "      <td>-79.239476</td>\n",
       "    </tr>\n",
       "  </tbody>\n",
       "</table>\n",
       "</div>"
      ],
      "text/plain": [
       "  Postal Code   Latitude  Longitude\n",
       "0         M1B  43.806686 -79.194353\n",
       "1         M1C  43.784535 -79.160497\n",
       "2         M1E  43.763573 -79.188711\n",
       "3         M1G  43.770992 -79.216917\n",
       "4         M1H  43.773136 -79.239476"
      ]
     },
     "execution_count": 11,
     "metadata": {},
     "output_type": "execute_result"
    }
   ],
   "source": [
    "gc=pd.read_csv('Geospatial_Coordinates.csv')\n",
    "gc.head(5)"
   ]
  },
  {
   "cell_type": "code",
   "execution_count": 14,
   "metadata": {},
   "outputs": [
    {
     "data": {
      "text/html": [
       "<div>\n",
       "<style scoped>\n",
       "    .dataframe tbody tr th:only-of-type {\n",
       "        vertical-align: middle;\n",
       "    }\n",
       "\n",
       "    .dataframe tbody tr th {\n",
       "        vertical-align: top;\n",
       "    }\n",
       "\n",
       "    .dataframe thead th {\n",
       "        text-align: right;\n",
       "    }\n",
       "</style>\n",
       "<table border=\"1\" class=\"dataframe\">\n",
       "  <thead>\n",
       "    <tr style=\"text-align: right;\">\n",
       "      <th></th>\n",
       "      <th>Postal code</th>\n",
       "      <th>Latitude</th>\n",
       "      <th>Longitude</th>\n",
       "    </tr>\n",
       "  </thead>\n",
       "  <tbody>\n",
       "    <tr>\n",
       "      <th>0</th>\n",
       "      <td>M1B</td>\n",
       "      <td>43.806686</td>\n",
       "      <td>-79.194353</td>\n",
       "    </tr>\n",
       "    <tr>\n",
       "      <th>1</th>\n",
       "      <td>M1C</td>\n",
       "      <td>43.784535</td>\n",
       "      <td>-79.160497</td>\n",
       "    </tr>\n",
       "    <tr>\n",
       "      <th>2</th>\n",
       "      <td>M1E</td>\n",
       "      <td>43.763573</td>\n",
       "      <td>-79.188711</td>\n",
       "    </tr>\n",
       "    <tr>\n",
       "      <th>3</th>\n",
       "      <td>M1G</td>\n",
       "      <td>43.770992</td>\n",
       "      <td>-79.216917</td>\n",
       "    </tr>\n",
       "    <tr>\n",
       "      <th>4</th>\n",
       "      <td>M1H</td>\n",
       "      <td>43.773136</td>\n",
       "      <td>-79.239476</td>\n",
       "    </tr>\n",
       "  </tbody>\n",
       "</table>\n",
       "</div>"
      ],
      "text/plain": [
       "  Postal code   Latitude  Longitude\n",
       "0         M1B  43.806686 -79.194353\n",
       "1         M1C  43.784535 -79.160497\n",
       "2         M1E  43.763573 -79.188711\n",
       "3         M1G  43.770992 -79.216917\n",
       "4         M1H  43.773136 -79.239476"
      ]
     },
     "execution_count": 14,
     "metadata": {},
     "output_type": "execute_result"
    }
   ],
   "source": [
    "# here the Column name Postal Code should be renamed\n",
    "gc.rename(columns = {'Postal Code':'Postal code'}, inplace = True)\n",
    "gc.head()"
   ]
  },
  {
   "cell_type": "code",
   "execution_count": 22,
   "metadata": {},
   "outputs": [
    {
     "data": {
      "text/html": [
       "<div>\n",
       "<style scoped>\n",
       "    .dataframe tbody tr th:only-of-type {\n",
       "        vertical-align: middle;\n",
       "    }\n",
       "\n",
       "    .dataframe tbody tr th {\n",
       "        vertical-align: top;\n",
       "    }\n",
       "\n",
       "    .dataframe thead th {\n",
       "        text-align: right;\n",
       "    }\n",
       "</style>\n",
       "<table border=\"1\" class=\"dataframe\">\n",
       "  <thead>\n",
       "    <tr style=\"text-align: right;\">\n",
       "      <th></th>\n",
       "      <th>Postal code</th>\n",
       "      <th>Borough</th>\n",
       "      <th>Neighborhood</th>\n",
       "      <th>Latitude</th>\n",
       "      <th>Longitude</th>\n",
       "    </tr>\n",
       "  </thead>\n",
       "  <tbody>\n",
       "    <tr>\n",
       "      <th>0</th>\n",
       "      <td>M3A</td>\n",
       "      <td>North York</td>\n",
       "      <td>Parkwoods</td>\n",
       "      <td>43.753259</td>\n",
       "      <td>-79.329656</td>\n",
       "    </tr>\n",
       "    <tr>\n",
       "      <th>1</th>\n",
       "      <td>M4A</td>\n",
       "      <td>North York</td>\n",
       "      <td>Victoria Village</td>\n",
       "      <td>43.725882</td>\n",
       "      <td>-79.315572</td>\n",
       "    </tr>\n",
       "    <tr>\n",
       "      <th>2</th>\n",
       "      <td>M5A</td>\n",
       "      <td>Downtown Toronto</td>\n",
       "      <td>Regent Park , Harbourfront</td>\n",
       "      <td>43.654260</td>\n",
       "      <td>-79.360636</td>\n",
       "    </tr>\n",
       "    <tr>\n",
       "      <th>3</th>\n",
       "      <td>M6A</td>\n",
       "      <td>North York</td>\n",
       "      <td>Lawrence Manor , Lawrence Heights</td>\n",
       "      <td>43.718518</td>\n",
       "      <td>-79.464763</td>\n",
       "    </tr>\n",
       "    <tr>\n",
       "      <th>4</th>\n",
       "      <td>M7A</td>\n",
       "      <td>Downtown Toronto</td>\n",
       "      <td>Queen's Park , Ontario Provincial Government</td>\n",
       "      <td>43.662301</td>\n",
       "      <td>-79.389494</td>\n",
       "    </tr>\n",
       "  </tbody>\n",
       "</table>\n",
       "</div>"
      ],
      "text/plain": [
       "  Postal code           Borough                                  Neighborhood  \\\n",
       "0         M3A        North York                                     Parkwoods   \n",
       "1         M4A        North York                              Victoria Village   \n",
       "2         M5A  Downtown Toronto                    Regent Park , Harbourfront   \n",
       "3         M6A        North York             Lawrence Manor , Lawrence Heights   \n",
       "4         M7A  Downtown Toronto  Queen's Park , Ontario Provincial Government   \n",
       "\n",
       "    Latitude  Longitude  \n",
       "0  43.753259 -79.329656  \n",
       "1  43.725882 -79.315572  \n",
       "2  43.654260 -79.360636  \n",
       "3  43.718518 -79.464763  \n",
       "4  43.662301 -79.389494  "
      ]
     },
     "execution_count": 22,
     "metadata": {},
     "output_type": "execute_result"
    }
   ],
   "source": [
    "df2=pd.merge(df, gc, on=\"Postal code\")\n",
    "df2.head()"
   ]
  },
  {
   "cell_type": "markdown",
   "metadata": {},
   "source": [
    "## Part 3"
   ]
  },
  {
   "cell_type": "code",
   "execution_count": 16,
   "metadata": {},
   "outputs": [
    {
     "name": "stdout",
     "output_type": "stream",
     "text": [
      "Collecting package metadata (current_repodata.json): done\n",
      "Solving environment: done\n",
      "\n",
      "# All requested packages already installed.\n",
      "\n",
      "Collecting package metadata (current_repodata.json): done\n",
      "Solving environment: done\n",
      "\n",
      "# All requested packages already installed.\n",
      "\n",
      "Folium installed\n",
      "Libraries imported.\n"
     ]
    }
   ],
   "source": [
    "import requests # library to handle requests\n",
    "import pandas as pd # library for data analsysis\n",
    "import numpy as np # library to handle data in a vectorized manner\n",
    "import random # library for random number generation\n",
    "\n",
    "!conda install -c conda-forge geopy --yes \n",
    "from geopy.geocoders import Nominatim # module to convert an address into latitude and longitude values\n",
    "\n",
    "# libraries for displaying images\n",
    "from IPython.display import Image \n",
    "from IPython.core.display import HTML \n",
    "    \n",
    "# tranforming json file into a pandas dataframe library\n",
    "from pandas.io.json import json_normalize\n",
    "\n",
    "!conda install -c conda-forge folium=0.5.0 --yes\n",
    "import folium # plotting library\n",
    "\n",
    "print('Folium installed')\n",
    "print('Libraries imported.')"
   ]
  },
  {
   "cell_type": "code",
   "execution_count": 27,
   "metadata": {},
   "outputs": [
    {
     "data": {
      "text/plain": [
       "103"
      ]
     },
     "execution_count": 27,
     "metadata": {},
     "output_type": "execute_result"
    }
   ],
   "source": [
    "locations = df2[['Latitude', 'Longitude']]\n",
    "locationlist = locations.values.tolist()\n",
    "len(locationlist)"
   ]
  },
  {
   "cell_type": "code",
   "execution_count": 35,
   "metadata": {},
   "outputs": [
    {
     "data": {
      "text/html": [
       "<div style=\"width:100%;\"><div style=\"position:relative;width:100%;height:0;padding-bottom:60%;\"><iframe src=\"about:blank\" style=\"position:absolute;width:100%;height:100%;left:0;top:0;border:none !important;\" data-html=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 onload=\"this.contentDocument.open();this.contentDocument.write(atob(this.getAttribute('data-html')));this.contentDocument.close();\" allowfullscreen webkitallowfullscreen mozallowfullscreen></iframe></div></div>"
      ],
      "text/plain": [
       "<folium.folium.Map at 0x7f2f17e557f0>"
      ]
     },
     "execution_count": 35,
     "metadata": {},
     "output_type": "execute_result"
    }
   ],
   "source": [
    "map = folium.Map(location=[43.753259, -79.329656], zoom_start=11)\n",
    "for point in range(0, len(locationlist)):\n",
    "    folium.Marker(locationlist[point], popup=df2['Postal code'][point]).add_to(map)\n",
    "map"
   ]
  },
  {
   "cell_type": "markdown",
   "metadata": {},
   "source": [
    "In case the map is not visible on github, try the following url to view the image of the map\n",
    "https://drive.google.com/file/d/1I_6nLKLvnRqqJLmpPM_sjp2jIYjr6QVc/view?usp=sharing\n",
    "Thus we have successfully plotted the Postal Codes on Map using folium."
   ]
  },
  {
   "cell_type": "code",
   "execution_count": null,
   "metadata": {},
   "outputs": [],
   "source": []
  }
 ],
 "metadata": {
  "kernelspec": {
   "display_name": "Python",
   "language": "python",
   "name": "conda-env-python-py"
  },
  "language_info": {
   "codemirror_mode": {
    "name": "ipython",
    "version": 3
   },
   "file_extension": ".py",
   "mimetype": "text/x-python",
   "name": "python",
   "nbconvert_exporter": "python",
   "pygments_lexer": "ipython3",
   "version": "3.6.10"
  }
 },
 "nbformat": 4,
 "nbformat_minor": 4
}
